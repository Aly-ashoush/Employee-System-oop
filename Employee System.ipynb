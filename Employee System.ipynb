{
 "cells": [
  {
   "cell_type": "markdown",
   "metadata": {},
   "source": [
    "# Employee System Project\n",
    "##### You need to design a system that can store, retrieve, and display employee information while adhering to the following requirements:"
   ]
  },
  {
   "cell_type": "markdown",
   "metadata": {},
   "source": [
    "##### Task 1 : Create a parent class named Employee that will represent the common attributes and methods shared by all employees, This class should Have the following attributes and methods :\n",
    "\n",
    "* Name (string): The employee's full name.\n",
    "* Employee ID (string): A unique identifier for each employee.\n",
    "* Salary (float): The employee's salary.\n",
    "\n",
    "* Provide a method get_employee_details() that returns the employee’s name, ID, and salary.\n",
    "* Include a method set_salary(salary) to allow for setting the salary, ensuring the value is positive."
   ]
  },
  {
   "cell_type": "code",
   "execution_count": 22,
   "metadata": {},
   "outputs": [],
   "source": [
    "class Employee:\n",
    "    def __init__(self,name,Employee_ID,Salary):\n",
    "        self.name=name\n",
    "        self.Employee_ID=Employee_ID\n",
    "        self.Salary=Salary\n",
    "\n",
    "    def get_employee_details (self):\n",
    "        print(f\"name is {self.name}\\n and  Employee_ID is {self.Employee_ID}\\n and Salary is  {self.Salary}\")\n",
    "\n",
    "    def set_salary(self):\n",
    "        if self.Salary >=0:\n",
    "           return self.Salary\n",
    "\n",
    "        else :\n",
    "            print(\"please enter correct salary\")\n",
    "            "
   ]
  },
  {
   "cell_type": "code",
   "execution_count": 23,
   "metadata": {},
   "outputs": [],
   "source": [
    "em1=Employee(\"aly abdelkader ashoush\",42110340,5000000)"
   ]
  },
  {
   "cell_type": "code",
   "execution_count": 24,
   "metadata": {},
   "outputs": [
    {
     "name": "stdout",
     "output_type": "stream",
     "text": [
      "name is aly abdelkader ashoush\n",
      " and  Employee_ID is 42110340\n",
      " and Salary is  5000000\n"
     ]
    }
   ],
   "source": [
    "em1.get_employee_details()"
   ]
  },
  {
   "cell_type": "code",
   "execution_count": 25,
   "metadata": {},
   "outputs": [
    {
     "data": {
      "text/plain": [
       "5000000"
      ]
     },
     "execution_count": 25,
     "metadata": {},
     "output_type": "execute_result"
    }
   ],
   "source": [
    "em1.set_salary()"
   ]
  },
  {
   "cell_type": "markdown",
   "metadata": {},
   "source": [
    "##### Task 2 : Create a child Class named FullTimeEmployee that inherits from the Employee class, This class should add the folllowing additional attributes and methods:\n",
    "\n",
    "* Benefits (string): A description of the benefits provided to the employee.\n",
    "\n",
    "* Provide a method get_fulltime_details() that returns the full-time employee’s details, including their benefits."
   ]
  },
  {
   "cell_type": "code",
   "execution_count": 29,
   "metadata": {},
   "outputs": [],
   "source": [
    "class FullTimeEmployee(Employee):\n",
    "    def __init__(self,name,Employee_ID,Salary,benfits):\n",
    "        Employee.__init__(self,name,Employee_ID,Salary)\n",
    "        self.benfits=benfits\n",
    "\n",
    "    def get_fulltime_details(self):\n",
    "        print(f\"name is {self.name}\\n and  Employee_ID is {self.Employee_ID}\\n and Salary is  {self.Salary}\\n and benfits is {self.benfits}\")"
   ]
  },
  {
   "cell_type": "code",
   "execution_count": 30,
   "metadata": {},
   "outputs": [],
   "source": [
    "f1=FullTimeEmployee(\"aly abdelkader ashoush\",42110340,5000000,\"this is benfits 500\")"
   ]
  },
  {
   "cell_type": "code",
   "execution_count": 31,
   "metadata": {},
   "outputs": [
    {
     "name": "stdout",
     "output_type": "stream",
     "text": [
      "name is aly abdelkader ashoush\n",
      " and  Employee_ID is 42110340\n",
      " and Salary is  5000000\n",
      " and benfits is this is benfits 500\n"
     ]
    }
   ],
   "source": [
    "f1.get_fulltime_details()"
   ]
  },
  {
   "cell_type": "markdown",
   "metadata": {},
   "source": [
    "##### Task 3 : Create Child Class named PartTimeEmployee which inherits from the Employee class, This class should add the following additional attributes and metods :\n",
    "\n",
    "* Hourly Rate (float): The amount paid per hour.\n",
    "\n",
    "* Hours Worked (float): The total hours worked in a week.\n",
    "\n",
    "* Provide a method calculate_weekly_salary() that calculates the weekly salary based on the hourly rate and hours worked.\n",
    "\n",
    "* Implement a method get_parttime_details() that returns the part-time employee’s details along with their calculated weekly salary."
   ]
  },
  {
   "cell_type": "code",
   "execution_count": 51,
   "metadata": {},
   "outputs": [],
   "source": [
    "class PartTimeEmployee(Employee):\n",
    "    def __init__(self,name,Employee_ID,Salary,Hourly_Rate,Hours_Worked):\n",
    "        Employee.__init__(self,name,Employee_ID,Salary)\n",
    "        self.Hourly_Rate=Hourly_Rate\n",
    "        self.Hours_Worked=Hours_Worked\n",
    "\n",
    "    def calculate_weekly_salary(self):\n",
    "        salary_weekely=self.Hourly_Rate*self.Hours_Worked\n",
    "        return salary_weekely\n",
    "\n",
    "    def get_parttime_details(self):\n",
    "            print(f\"name is {self.name}\\n and  Employee_ID is {self.Employee_ID}\\n and Salary is  {self.Salary}\\n and Hourly Rate is {self.Hourly_Rate}\\n and Hours Worked is {self.Hours_Worked}\" )\n",
    "        "
   ]
  },
  {
   "cell_type": "code",
   "execution_count": 52,
   "metadata": {},
   "outputs": [],
   "source": [
    "p1=PartTimeEmployee(\"aly abdelkader ashoush\",42110340,5000000,400,40)"
   ]
  },
  {
   "cell_type": "code",
   "execution_count": 53,
   "metadata": {},
   "outputs": [
    {
     "data": {
      "text/plain": [
       "16000"
      ]
     },
     "execution_count": 53,
     "metadata": {},
     "output_type": "execute_result"
    }
   ],
   "source": [
    "p1.calculate_weekly_salary()"
   ]
  },
  {
   "cell_type": "code",
   "execution_count": 54,
   "metadata": {},
   "outputs": [
    {
     "name": "stdout",
     "output_type": "stream",
     "text": [
      "name is aly abdelkader ashoush\n",
      " and  Employee_ID is 42110340\n",
      " and Salary is  5000000\n",
      " and Hourly Rate is 400\n",
      " and Hours Worked is 40\n"
     ]
    }
   ],
   "source": [
    "p1.get_parttime_details()"
   ]
  },
  {
   "cell_type": "code",
   "execution_count": null,
   "metadata": {},
   "outputs": [],
   "source": []
  }
 ],
 "metadata": {
  "kernelspec": {
   "display_name": "Python 3 (ipykernel)",
   "language": "python",
   "name": "python3"
  },
  "language_info": {
   "codemirror_mode": {
    "name": "ipython",
    "version": 3
   },
   "file_extension": ".py",
   "mimetype": "text/x-python",
   "name": "python",
   "nbconvert_exporter": "python",
   "pygments_lexer": "ipython3",
   "version": "3.11.7"
  }
 },
 "nbformat": 4,
 "nbformat_minor": 4
}
